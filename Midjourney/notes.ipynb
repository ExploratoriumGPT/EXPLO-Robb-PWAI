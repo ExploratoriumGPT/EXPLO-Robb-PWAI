{
 "cells": [
  {
   "cell_type": "code",
   "execution_count": null,
   "metadata": {},
   "outputs": [],
   "source": []
  },
  {
   "cell_type": "markdown",
   "metadata": {},
   "source": [
    "StartUp notes.\n",
    "\n",
    "Curently using `launch.command` to execute `npm start`\n",
    "\n",
    "Questionable how login to the 4o account will be handled."
   ]
  }
 ],
 "metadata": {
  "language_info": {
   "name": "python"
  }
 },
 "nbformat": 4,
 "nbformat_minor": 2
}
